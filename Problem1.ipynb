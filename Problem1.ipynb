{
 "cells": [
  {
   "cell_type": "code",
   "execution_count": 3,
   "metadata": {
    "executionInfo": {
     "elapsed": 377,
     "status": "ok",
     "timestamp": 1614100359626,
     "user": {
      "displayName": "Agostina Palmigiano",
      "photoUrl": "https://lh3.googleusercontent.com/a-/AOh14GhyXPCe1nToo7fPDmRClebbx4QYmd_jXvAEpiImkQ=s64",
      "userId": "18363031759470736884"
     },
     "user_tz": 300
    },
    "id": "msNjklUJ4J5S"
   },
   "outputs": [],
   "source": [
    "### Import libraries\n",
    "import matplotlib.pyplot as plt\n",
    "import numpy as np\n",
    "from scipy import optimize\n",
    "from mpl_toolkits import mplot3d\n",
    "from matplotlib import rc\n",
    "#rc('text', usetex=True)\n",
    "\n",
    "\n",
    "### Plot configuration\n",
    "\n",
    "fig_width = 4.2 # width in inches\n",
    "fig_height = 3.  # height in inches\n",
    "fig_size =  [fig_width,fig_height]\n",
    "plt.rcParams['figure.figsize'] = fig_size\n",
    "plt.rcParams['figure.autolayout'] = True\n",
    "plt.rcParams['font.size'] = 12\n",
    "plt.rcParams['axes.spines.top'] = False\n",
    "plt.rcParams['axes.spines.right'] = False"
   ]
  },
  {
   "cell_type": "markdown",
   "metadata": {
    "id": "UzbkJlK_35M0"
   },
   "source": [
    "# **##################### Problem 1 #####################**\n",
    "\n",
    "The aim of this problem is to get familiar with the equations that define RNN dynamics. All the questions, except **e** and **f**, do not require any programming but can be solved with a pencil, a paper, and a bit of thinking.\n",
    "\n",
    "We have seen during the lecture that RNN dynamics are given by\n",
    "\n",
    "$$\\frac{d x_{i}(t)}{d t}=-x_{i}(t)+\\sum_{j=1}^{N} J_{i j} \\phi(x_{j}(t))+h_{i}(t).$$\n",
    "\n",
    "Variable $x_i$ represents the input current entering neuron $i$, while $\\phi(x_i)$ represents the output firing rate. $J_{ij}$ is a $N\\times N$ matrix representing recurrent connectivity, and $h_i$ is the external input received by neuron $i$.\n",
    "\n",
    "In this problem set, like in the first part of the lecture, we generate the recurrent connectivity at random from a Gaussian distribution: we set \n",
    "$$J_{ij}\\sim \\mathcal{N}\\left(0, \\frac{g^2}{N}\\right).$$\n",
    "\n",
    "In this first exercise, we also assume that neurons receive no input: $h_{i}(t)=0$.\n",
    "\n",
    "How can we study the dynamics that emerge from this set of equations, where the activity of each neuron input current variable $x_i(t)$ is strongly dependent on the behavior of many other variables?\n",
    "We follow the approach used in Dynamical Systems Theory and start our analysis by looking for special activity states, i.e. fixed points, that we indicate by $\\mathbf{x}^* = [x^*_1, \\dots, x^*_N]^T$ (written as a column vector). At the fixed points, current variables are stationary (i.e. they do not vary over time). Fixed point states thus obey:\n",
    "$$\\frac{d x_{i}}{d t}\\biggr\\rvert_{x_i=x_i^*}=0 \\implies x_i^* = \\sum_{j=1}^{N} J_{i j} \\phi(x_{j}^*).\n",
    "$$\n"
   ]
  },
  {
   "cell_type": "markdown",
   "metadata": {
    "id": "9Zy7LEEmVnv2"
   },
   "source": [
    "**a)**  To begin with, as in the lecture, we consider a linear RNN: we take $\\phi(x)=x$. Write down the fixed point equation in this case. This equation admits a very simple fixed point $\\mathbf{x}^*$. Can you guess what this fixed point is? Do you think that this fixed point is the only one admitted by the dynamics? *Hint: this is a linear system of equations!*"
   ]
  },
  {
   "cell_type": "markdown",
   "metadata": {
    "id": "ntlrnjnEbalC"
   },
   "source": [
    "**SOLUTION:** The simple fixed point is $x_i^*=0$ $\\forall i$, and it is the only one. This fixed point, where the input current variables of all neurons are zero, is called the trivial fixed point.\n",
    "\n",
    " To see that is the only one, we notice that we have \n",
    "\n",
    " $$(-I+J)\\vec x=0$$ has only one solution if J is full rank, which it is. "
   ]
  },
  {
   "cell_type": "markdown",
   "metadata": {
    "id": "6Vldm46cW6gB"
   },
   "source": [
    "**b)** Let's now turn to a non-linear RNN. As a first step, we take $\\phi(x)=\\tanh(x)$. Write down the fixed point equation in this case. Can you guess a simple fixed point? Is this simple fixed point guaranteed to be the only one?"
   ]
  },
  {
   "cell_type": "markdown",
   "metadata": {
    "id": "L0VTstlSblT6"
   },
   "source": [
    "**SOLUTION:** The RNN admits the same fixed point, but now it is hard to guess a priori whether or not other fixed points are admitted."
   ]
  },
  {
   "cell_type": "code",
   "execution_count": 4,
   "metadata": {
    "colab": {
     "base_uri": "https://localhost:8080/",
     "height": 241
    },
    "executionInfo": {
     "elapsed": 402,
     "status": "ok",
     "timestamp": 1614100363261,
     "user": {
      "displayName": "Agostina Palmigiano",
      "photoUrl": "https://lh3.googleusercontent.com/a-/AOh14GhyXPCe1nToo7fPDmRClebbx4QYmd_jXvAEpiImkQ=s64",
      "userId": "18363031759470736884"
     },
     "user_tz": 300
    },
    "id": "z9IusRra4H6n",
    "outputId": "c5259a2f-71ab-4112-b193-1f70a0f11250"
   },
   "outputs": [
    {
     "data": {
      "image/png": "[encoded data removed]",
      "text/plain": [
       "<Figure size 302.4x216 with 1 Axes>"
      ]
     },
     "metadata": {
      "needs_background": "light",
      "tags": []
     },
     "output_type": "display_data"
    }
   ],
   "source": [
    "\n",
    "#Define the  nonlinearity\n",
    "def phi(x):\n",
    "  return np.tanh(x)\n",
    "\n",
    "# This function finds the intersection\n",
    "def SteadyStatesFunction_single_neuron(x,J,H):\n",
    "  out=-x+J*phi(x)+H\n",
    "  return out\n",
    "        \n",
    "# We choose some simple parameters and find the intersection numerically\n",
    "J=1\n",
    "H=0       \n",
    "sol=optimize.root(SteadyStatesFunction_single_neuron,\n",
    "                  np.random.rand(), \n",
    "                  args=(J,H),\n",
    "                  tol=1e-10);\n",
    "#### #### #### #### #### #### #### #### #### #### #### #### #### #### #### #### #### #### #### ####\n",
    "#### Plot intersection between x and tanh\n",
    "\n",
    "fg = plt.figure()\n",
    "ax0 = plt.axes(frameon=True)\n",
    "x_range=1\n",
    "x=np.linspace(-x_range,x_range,100)\n",
    "\n",
    "\n",
    "# Plot intersection\n",
    "plt.plot(x,phi(x))\n",
    "plt.plot(x,x)\n",
    "\n",
    "#### Plot the solution found numerically with the solver\n",
    "plt.plot(sol.x,phi(sol.x),'*r')\n",
    "\n",
    "\n",
    "plt.xlabel('Input current')\n",
    "\n",
    "plt.xlim(-x_range, x_range)\n",
    "plt.ylim(-x_range, x_range)\n",
    "plt.xticks([0, -x_range, x_range])\n",
    "plt.yticks([0,-x_range, x_range])\n",
    "plt.show()"
   ]
  },
  {
   "cell_type": "markdown",
   "metadata": {
    "id": "TDpC0-OcXp_6"
   },
   "source": [
    "**c)** Fixed points are stationary states of the dynamics: this means that if the RNN is initialized at the fixed point, it will stay there. Now assume that the network is initialized at a state $x_i(t)$ that is *close* to the fixed point: we take\n",
    "$$ x_i(t) = x_i^* + \\delta x_i(t)$$\n",
    "where $\\delta x_i(t)$ is small. Derive the dynamics that is obeyed by $\\delta x_i(t)$. Then approximate those dynamics by Taylor expanding the non-linearity $\\phi(x_i)$ close to the simple fixed point, and keep only the first-order. *Hint: the derivative of $\\phi(x)=\\tanh(x)$ is $\\phi'(x)=1-\\tanh^2(x)$!*"
   ]
  },
  {
   "cell_type": "markdown",
   "metadata": {
    "id": "pe4OsXTsbupd"
   },
   "source": [
    "**SOLUTION:** We have\n",
    "$$\\underbrace{\\delta x_i}_\\textrm{small perturbation} = \\underbrace{x_i(t)}_\\textrm{current neuron state} - \\underbrace{x_i^*}_\\textrm{neuron state at fixed point}$$\n",
    "\n",
    "Its dynamics are given by:\n",
    "$$\\frac{d \\delta x_i}{dt} = \\frac{d}{dt}(x_i(t)-x_i^*) = \\frac{dx_i}{dt} $$\n",
    "Thus:\n",
    "$$\\frac{d \\delta x_i}{dt} = - x_i^* - \\delta x_i + \\sum_{j=1}^N J_{ij} \\phi(x_j^* + \\delta x_j). $$\n",
    "\n",
    "We observe that $x_i^*= 0$.\n",
    "We now use the Taylor expansion:\n",
    "$$\\phi(x_j^* + \\delta x_j) = \\underbrace{\\phi(x_j^*)}_{\\mathrm{cancels}} +  \\phi'(x_j^*)\\delta x_j + \\underbrace{ \\mathcal{O}(\\delta x_j^2) +  ...}_\\textrm{higher order terms we can ignore}$$\n",
    "\n",
    "We compute $\\phi'(x)$ and evaluate it at $x_j^*= 0$:\n",
    "$$\n",
    "\\phi'(x) = \\frac{d \\tanh(x)}{dx} =1 - \\tanh^2(x) \n",
    "$$\n",
    "$$ 1 - \\tanh^2(x) \\biggr\\rvert_{x_j^* = 0} = 1$$\n",
    "\n",
    "We finally have that dynamics obey\n",
    "$$\n",
    " \\frac{d\\delta{x}_i}{dt}=-\\delta x_i+  \\sum_{j=1}^{N}  J_{ij} \\delta x_j \n",
    "$$\n",
    "which are the linear dynamics we started from.\n",
    "\n",
    "$$\n",
    " \\frac{d\\delta{ \\vec{x}}}{dt}=(-I+J) \\delta \\vec{x}\n",
    "$$"
   ]
  },
  {
   "cell_type": "markdown",
   "metadata": {
    "id": "DJhgu1THY7dX"
   },
   "source": [
    "**d)** We can now use the approximate dynamics we derived to understand the RNN behavior close to the fixed point.\n",
    "If everything went well, the approximate dynamics you obtained are linear. What is the expected qualitative behavior of the solution of these dynamics ? Is activity guaranteed to go back to the simple fixed point? *Hint: Kanaka has shown this in the lecture...* "
   ]
  },
  {
   "cell_type": "markdown",
   "metadata": {
    "id": "2_oZjxVhek6V"
   },
   "source": [
    "**SOLUTION:** Activity can go back to the trivial fixed point (because $\\delta x_i \\rightarrow 0$ as time evolves), or go very far from it (because $\\delta x_i \\rightarrow \\infty$ as time evolves). "
   ]
  },
  {
   "cell_type": "markdown",
   "metadata": {
    "id": "6WYiLd1s8pwt"
   },
   "source": [
    "**e)** Linear algebra tells us that $\\delta x_i$ will diverge when there is (at least) one eigenvalue of $J_{ij}$ whose real part is larger than 1. By using your favourite programming language, generate a random RNN with $N=200$ and $g=0.8$. Then compute the eigenvalues of $J_{ij}$. How many are them? Plot the eigenvalues on a plane where the x and the y axes correspond respectively to the real and the imaginary parts of eigenvalues. What is the shape that eigenvalues span on those planes? How does $g$ control the shape, and the value of the maximal real part? *Hint: in Python, you can use the numpy.linalg.eigvals function*"
   ]
  },
  {
   "cell_type": "markdown",
   "metadata": {
    "id": "P1VFhPZA9jLs"
   },
   "source": [
    "**SOLUTION:**"
   ]
  },
  {
   "cell_type": "code",
   "execution_count": 8,
   "metadata": {
    "colab": {
     "base_uri": "https://localhost:8080/",
     "height": 241
    },
    "executionInfo": {
     "elapsed": 598,
     "status": "ok",
     "timestamp": 1614101006054,
     "user": {
      "displayName": "Agostina Palmigiano",
      "photoUrl": "https://lh3.googleusercontent.com/a-/AOh14GhyXPCe1nToo7fPDmRClebbx4QYmd_jXvAEpiImkQ=s64",
      "userId": "18363031759470736884"
     },
     "user_tz": 300
    },
    "id": "y6T3Oome9lcf",
    "outputId": "66a7a31b-e744-438f-d22e-2a8927b22560"
   },
   "outputs": [
    {
     "data": {
      "image/png": "[encoded data removed]",
      "text/plain": [
       "<Figure size 302.4x216 with 1 Axes>"
      ]
     },
     "metadata": {
      "needs_background": "light",
      "tags": []
     },
     "output_type": "display_data"
    }
   ],
   "source": [
    "### Import libraries\n",
    "import matplotlib.pyplot as plt\n",
    "import numpy as np\n",
    "from scipy import optimize\n",
    "from mpl_toolkits import mplot3d\n",
    "from matplotlib import rc\n",
    "#rc('text', usetex=True)\n",
    "\n",
    "### Plot configuration\n",
    "\n",
    "fig_width = 4.2 # width in inches\n",
    "fig_height = 3.  # height in inches\n",
    "fig_size =  [fig_width,fig_height]\n",
    "plt.rcParams['figure.figsize'] = fig_size\n",
    "plt.rcParams['figure.autolayout'] = True\n",
    "plt.rcParams['font.size'] = 12\n",
    "plt.rcParams['axes.spines.top'] = False\n",
    "plt.rcParams['axes.spines.right'] = False\n",
    "\n",
    "#### #### #### #### #### #### ####\n",
    "#### Generate network parameters\n",
    "\n",
    "N = 200               # Network size\n",
    "g = 0.8              # Connectivity strength\n",
    "\n",
    "# Connectivity\n",
    "\n",
    "J = g/np.sqrt(N) * np.random.normal(0, 1., (N,N))\n",
    "eig = np.linalg.eigvals(-np.eye(N)+J)\n",
    "\n",
    "#### #### #### #### #### #### #### #### #### #### #### #### #### #### #### #### #### #### #### ####\n",
    "#### Plot eigenspectrum of J\n",
    "\n",
    "fg = plt.figure()\n",
    "ax0 = plt.axes(frameon=True)\n",
    "\n",
    "line, = plt.plot([1,1], [-1,1], '--', color = '0.3')\n",
    "\n",
    "plt.plot(eig.real, eig.imag, 'o', color='#CC0000', markersize = 2.5, alpha = 0.7)\n",
    "\n",
    "# Plot a circle of radius g\n",
    "\n",
    "theta = np.linspace(0, 4*np.pi, 200)\n",
    "# plt.plot(g*np.cos(theta), g*np.sin(theta), 'k')\n",
    "\n",
    "plt.xlim(-2,2)\n",
    "plt.ylim(-1,1)\n",
    "plt.yticks([-2,0,1])\n",
    "\n",
    "plt.xlabel('$\\mathcal{R}(\\lambda)$')\n",
    "plt.ylabel('$\\mathcal{I}(\\lambda)$')\n",
    "\n",
    "plt.locator_params(nbins=4)\n",
    "\n",
    "plt.show()"
   ]
  },
  {
   "cell_type": "markdown",
   "metadata": {
    "id": "t1CIs3zyaOxX"
   },
   "source": [
    "**f) Optional** We have learnt from the previous point that approximately when $g>1$, activity diverges away from the simple fixed point.\n",
    "In that case, we say that the fixed point is *unstable*, we don't know apriori what will happen: Dynamical Systems Theory indicates that other fixed points, limit cycles, or chaotic attractors might emerge. Understanding the behavior of random RNNs in this case is the focus of the next exercise.\n",
    "\n",
    "We consider here a different issue.\n",
    "In the RNN we just examined, we assumed that $\\phi(x)=\\tanh(x)$. This was in fact a very lucky choice, because we were able to easily guess the value of the fixed point that is admitted by the dynamics, and evaluate activity evolution around it. In RNNs characterized by a general activation function, finding the fixed points can be hard, because easy guesses do not work. For example, we will use an activation function that generates only positive firing rates:\n",
    "$$\\phi(x)=\\frac{1}{2}\\left(\\tanh(x)+1\\right).$$\n",
    " A way of doing this is to use numerics to solve the fixed point equations. \n",
    "Choose a solver in your favourite programming language, and solve the fixed point equations numerically. Use $N=50$, $g=0.8$. *Hint: in Python, you can use the function root from the scipy.optimize package*.\n",
    "What is the value of the fixed point? Is the current variable $x_i^*$ for every neuron the same as in the simple fixed point? Print the histogram of entries $x_i^*$; then go back to $\\phi(x)=\\tanh(x)$, and plot the histogram again. Side note: is this the only fixed point? How would you test this numerically?"
   ]
  },
  {
   "cell_type": "markdown",
   "metadata": {
    "id": "MswmI3E6f3aU"
   },
   "source": [
    "**SOLUTION:**"
   ]
  },
  {
   "cell_type": "code",
   "execution_count": null,
   "metadata": {
    "colab": {
     "base_uri": "https://localhost:8080/",
     "height": 377
    },
    "executionInfo": {
     "elapsed": 701,
     "status": "ok",
     "timestamp": 1613940709448,
     "user": {
      "displayName": "Friedrich Schuessler",
      "photoUrl": "",
      "userId": "09731992798374122010"
     },
     "user_tz": -60
    },
    "id": "BE8zclt23j1q",
    "outputId": "0efcd0aa-7f5b-46f1-c0a4-1dea8e1cc2c4"
   },
   "outputs": [
    {
     "name": "stdout",
     "output_type": "stream",
     "text": [
      "[ 0.17318797  0.8244302   0.01258231  0.33776866  0.68121068 -0.10763753\n",
      " -0.00197839 -0.23682655 -0.79552382  0.1097235  -0.24963938 -0.0154437\n",
      " -0.19891007  0.77288591  0.06170918 -0.07865215 -0.64762784 -0.81690728\n",
      "  0.13140075  0.47394289  0.91890039 -0.04618493  0.18935629  0.24349304\n",
      " -0.49446595  0.40201458  0.37698033 -0.09843909 -0.02040727  0.22565066\n",
      " -0.20784145 -0.02944336  0.68761448 -0.74781253  0.29938377  0.47618828\n",
      "  1.00643545  0.71821513 -0.09143124 -0.06262133  0.89455847  0.08310004\n",
      "  0.2032138  -1.01862223  0.66107794  0.3357393  -0.45037308  0.6079621\n",
      " -0.02719605  0.07749938]\n"
     ]
    },
    {
     "data": {
      "image/png": "[encoded data removed]",
      "text/plain": [
       "<Figure size 302.4x216 with 1 Axes>"
      ]
     },
     "metadata": {
      "needs_background": "light",
      "tags": []
     },
     "output_type": "display_data"
    }
   ],
   "source": [
    "#### #### #### #### #### #### ####\n",
    "#### Find the fixed point\n",
    "\n",
    "#Define the non-linearity\n",
    "def Phi(x):\n",
    "  return (np.tanh(x)+1.)/2.\n",
    "  # return np.tanh(x)\n",
    "\n",
    "# This function finds the intersection\n",
    "def FixedPointEq(x,J):\n",
    "  out = - x + np.dot(J, Phi(x))\n",
    "  return out\n",
    "\n",
    "initial_guess = np.random.normal(0, 0.1, N)\n",
    "sol = optimize.root(FixedPointEq, initial_guess, args=(J) ,tol=1e-10)\n",
    "\n",
    "#### #### #### #### #### #### ####\n",
    "#### Plot the histogram\n",
    "\n",
    "fg = plt.figure()\n",
    "ax0 = plt.axes(frameon=True)\n",
    "\n",
    "plt.hist(sol.x)\n",
    "\n",
    "plt.xlabel(' Current to each neuron $x_i$')\n",
    "\n",
    "plt.show()"
   ]
  },
  {
   "cell_type": "markdown",
   "metadata": {
    "id": "wIbguGdfiDPy"
   },
   "source": [
    "**g) Optional** The RNN dynamics that we have considered in this exercise and in the main lecture, which is written in terms of the input current variable $x_i(t)$, is only one among the two formalisms that are commonly used in the field. Another common choice is \n",
    "$$\\frac{d r_{i}(t)}{d t}=-r_{i}(t)+\\phi\\left(\\sum_{j=1}^{N} J_{i j} r_j(t)+h_{i}(t)\\right)$$\n",
    "where variable $r_i(t)$ is interpreted as the output firing rate of the neuron (instead of $\\phi(x_i)$).\n",
    "\n",
    " These two formalisms are in practice equivalent to each other, and are used indistinctly in the literature. \n",
    " \n",
    " If we consider constant external inputs, $h_{i}(t) = h_i$, there is a simple one-to-one mapping between both descriptions. Show that the two dynamics are exactly equivalent in this case: we can use a change of variable to transform one set of equations into the other. *Hint: define the variable $x_k = \\sum_{i=1}^N J_{ki} r_i + h_k$, and derive its time evolution...*\n",
    "\n",
    " The equivalence between both descriptions in the case of time-dependent  external inputs is discussed in this note: Miller & Fumarola (2012).\n"
   ]
  },
  {
   "cell_type": "markdown",
   "metadata": {
    "id": "aowDp_WIL7S1"
   },
   "source": [
    "**SOLUTION:** We have\n",
    "$$\n",
    "\\frac{dx_k(t)}{dt} = \\sum_{i=1}^N J_{ki} \\frac{dr_i(t)}{dt} = \\sum_{i=1}^N J_{ki} \\left( -r_{i}(t)+\\phi\\left(\\sum_{j=1}^{N} J_{i j} r_j(t)+h_{i}\\right)  \\right)\n",
    "= - x_k + h_k + \\sum_{i=1}^N J_{ki} \\phi(x_i).\n",
    "$$"
   ]
  },
  {
   "cell_type": "markdown",
   "metadata": {
    "id": "0kxEhik019kh"
   },
   "source": [
    "\n",
    "For instance, the input current description is  used in the following studies: Sompolinsky, Crisanti & Sommers (1988),  Sussillo & Abbott. (2009), Laje & Buonomano (2013), Wang, Narain, Hosseini & Jazayeri (2018)..., while the rate-based description is used in: Wilson and Cowan (1972, 1973), Ben-Yishai, Hansel & Sompolinsky (1994), Dayan & Abbott book, Vogels, Rajan & Abbott (2005), Wong and Wang (2006),..."
   ]
  },
  {
   "cell_type": "code",
   "execution_count": null,
   "metadata": {
    "id": "yyfBobrEiV0q"
   },
   "outputs": [],
   "source": []
  }
 ],
 "metadata": {
  "colab": {
   "collapsed_sections": [],
   "name": "Problem1_Agos.ipynb",
   "provenance": [
    {
     "file_id": "1vLoicUDDtNw0t0zqiSbHes-c6In65xGV",
     "timestamp": 1614025266765
    }
   ]
  },
  "kernelspec": {
   "display_name": "Python 3",
   "language": "python",
   "name": "python3"
  },
  "language_info": {
   "codemirror_mode": {
    "name": "ipython",
    "version": 3
   },
   "file_extension": ".py",
   "mimetype": "text/x-python",
   "name": "python",
   "nbconvert_exporter": "python",
   "pygments_lexer": "ipython3",
   "version": "3.6.10"
  }
 },
 "nbformat": 4,
 "nbformat_minor": 1
}
